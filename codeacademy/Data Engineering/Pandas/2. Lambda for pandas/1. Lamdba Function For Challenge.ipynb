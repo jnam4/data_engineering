{
 "cells": [
  {
   "cell_type": "markdown",
   "metadata": {},
   "source": [
    "\n",
    "Chapter 2: Lamdba Function For Challenge\n",
    "\n",
    "Date: 2025.01.15\n",
    "\n",
    "Author: Jiyun Nam\n",
    "\n",
    "Credit: codecademy\n"
   ]
  },
  {
   "cell_type": "markdown",
   "metadata": {},
   "source": [
    "lambda function is a one-line shorthand for function\n",
    "\n",
    "lambda word: ____ \n",
    "\n",
    "lambda should talk abut the return first and give conditions \n"
   ]
  },
  {
   "cell_type": "markdown",
   "metadata": {},
   "source": [
    "1. Contains A \n",
    "- Check whether it contains \"character\" in the \"word\"\n",
    "\n",
    "\n",
    "\n",
    "return \"I\" in \"Team\"\n",
    "\n",
    "-- return False as there is no \"I\" in \"Team\"\n",
    "\n",
    "\n",
    "\n",
    "\n",
    "contains_a = lambda word: \"I\" in word\n"
   ]
  },
  {
   "cell_type": "code",
   "execution_count": 13,
   "metadata": {},
   "outputs": [
    {
     "name": "stdout",
     "output_type": "stream",
     "text": [
      "True\n",
      "True\n",
      "False\n"
     ]
    }
   ],
   "source": [
    "#lambda\n",
    "\n",
    "contains_a = lambda word: \"a\" in word\n",
    "\n",
    "print(contains_a(\"banana\"))\n",
    "print(contains_a(\"apple\"))\n",
    "print(contains_a(\"cherry\"))\n"
   ]
  },
  {
   "cell_type": "markdown",
   "metadata": {},
   "source": [
    "2. Long String \n",
    "- Check whether word has over (number) of chracter"
   ]
  },
  {
   "cell_type": "code",
   "execution_count": 14,
   "metadata": {},
   "outputs": [
    {
     "name": "stdout",
     "output_type": "stream",
     "text": [
      "6\n"
     ]
    }
   ],
   "source": [
    "#python\n",
    "\n",
    "print(len(\"Hello!\"))"
   ]
  },
  {
   "cell_type": "code",
   "execution_count": 15,
   "metadata": {},
   "outputs": [
    {
     "name": "stdout",
     "output_type": "stream",
     "text": [
      "False\n",
      "True\n"
     ]
    }
   ],
   "source": [
    "#lambda\n",
    "\n",
    "long_string = lambda word: len(word) > 12\n",
    "\n",
    "print(long_string(\"short\"))\n",
    "print(long_string(\"photosynthesis\"))\n"
   ]
  },
  {
   "cell_type": "markdown",
   "metadata": {},
   "source": [
    "3. Ends with A\n",
    "-  Check whether function ends with character "
   ]
  },
  {
   "cell_type": "code",
   "execution_count": 16,
   "metadata": {},
   "outputs": [
    {
     "name": "stdout",
     "output_type": "stream",
     "text": [
      "W\n",
      "!\n"
     ]
    }
   ],
   "source": [
    "#python\n",
    "\n",
    "my_string = \"Whoo!\"\n",
    "print(my_string[0])\n",
    "print(my_string[-1])"
   ]
  },
  {
   "cell_type": "code",
   "execution_count": 10,
   "metadata": {},
   "outputs": [
    {
     "name": "stdout",
     "output_type": "stream",
     "text": [
      "True\n",
      "False\n"
     ]
    }
   ],
   "source": [
    "#lambda\n",
    "\n",
    "ends_in_a = lambda word: word[-1] == 'a'\n",
    "\n",
    "print(ends_in_a(\"data\"))\n",
    "print(ends_in_a(\"aardvark\"))\n"
   ]
  },
  {
   "cell_type": "markdown",
   "metadata": {},
   "source": [
    "4. Double Or Zero \n",
    "- If greater than 10, return double number. Otherwise, return 0 \n",
    "- lambda => think opposite \n",
    "\n",
    "return double number if greater than 10, otherwise 0 "
   ]
  },
  {
   "cell_type": "code",
   "execution_count": 17,
   "metadata": {},
   "outputs": [
    {
     "name": "stdout",
     "output_type": "stream",
     "text": [
      "30\n",
      "0\n"
     ]
    }
   ],
   "source": [
    "double_or_zero = lambda num: num * 2 if num > 10 else 0 \n",
    "\n",
    "print(double_or_zero(15))\n",
    "print(double_or_zero(5))"
   ]
  },
  {
   "cell_type": "markdown",
   "metadata": {},
   "source": [
    "5. Even/Odd\n",
    "- give remainder \n",
    "- if num is even, return \"even\", if num is odd return \"odd\"\n",
    "\n",
    "lambda\n",
    "\n",
    "-> return 'even' if num is even, return 'odd' if num is odd\n"
   ]
  },
  {
   "cell_type": "code",
   "execution_count": 20,
   "metadata": {},
   "outputs": [
    {
     "name": "stdout",
     "output_type": "stream",
     "text": [
      "0\n",
      "1\n"
     ]
    }
   ],
   "source": [
    "#python\n",
    "print(4%2) \n",
    "print(3%2)"
   ]
  },
  {
   "cell_type": "markdown",
   "metadata": {},
   "source": []
  },
  {
   "cell_type": "code",
   "execution_count": 19,
   "metadata": {},
   "outputs": [
    {
     "name": "stdout",
     "output_type": "stream",
     "text": [
      "even\n",
      "odd\n"
     ]
    }
   ],
   "source": [
    "#lambda\n",
    "even_or_odd = lambda num: \"even\" if num%2 == 0 else \"odd\"\n",
    "\n",
    "print(even_or_odd(10))\n",
    "print(even_or_odd(5))\n"
   ]
  },
  {
   "cell_type": "markdown",
   "metadata": {},
   "source": [
    "6. Multiple of Three\n",
    "- Check if it is multiple or not \n",
    "\n",
    "- 4%4 == 0 return true\n",
    "\n",
    "lambda\n",
    "\n",
    "-> true if 4%3 == 0 "
   ]
  },
  {
   "cell_type": "code",
   "execution_count": 21,
   "metadata": {},
   "outputs": [
    {
     "name": "stdout",
     "output_type": "stream",
     "text": [
      "0\n",
      "2\n"
     ]
    }
   ],
   "source": [
    "#python\n",
    "print(4%4) #4 is a multiple of 4\n",
    "print(12%5) #12 is not a multiple of 5"
   ]
  },
  {
   "cell_type": "code",
   "execution_count": 24,
   "metadata": {},
   "outputs": [
    {
     "name": "stdout",
     "output_type": "stream",
     "text": [
      "multiple of three\n",
      "not a multiple\n"
     ]
    }
   ],
   "source": [
    "#lambda\n",
    "multiple_of_three = lambda num: \"multiple of three\" if num%3 == 0 else \"not a multiple\"\n",
    "\n",
    "print(multiple_of_three(9))\n",
    "print(multiple_of_three(10))\n"
   ]
  },
  {
   "cell_type": "markdown",
   "metadata": {},
   "source": [
    "7. Moving Rating\n",
    "- True or False statement with comparisons \n",
    "\n",
    "- if rating is greater than 8.5, return \"I liked this movie\" else return \"this movie was not very good\"\n",
    "\n",
    "lamdba\n",
    "\n",
    "-> return \"I liked this movie\" if rating > 8.5\n",
    "\n",
    " else \"this movie was not good\""
   ]
  },
  {
   "cell_type": "code",
   "execution_count": 28,
   "metadata": {},
   "outputs": [
    {
     "name": "stdout",
     "output_type": "stream",
     "text": [
      "I liked this movie\n",
      "This movie was not very good\n"
     ]
    }
   ],
   "source": [
    "#lambda\n",
    "rate_movie = lambda rating: \"I liked this movie\" if rating > 8.5 else \"This movie was not very good\"\n",
    "\n",
    "print(rate_movie(9.2))\n",
    "print(rate_movie(7.2))\n"
   ]
  },
  {
   "cell_type": "markdown",
   "metadata": {},
   "source": [
    "8. One's Place\n",
    "- %10 to find the one's place is integer\n",
    "\n",
    "lambda\n",
    "-> num %10\n"
   ]
  },
  {
   "cell_type": "code",
   "execution_count": 30,
   "metadata": {},
   "outputs": [
    {
     "name": "stdout",
     "output_type": "stream",
     "text": [
      "1\n"
     ]
    }
   ],
   "source": [
    "#python\n",
    "print(41%10)\n"
   ]
  },
  {
   "cell_type": "code",
   "execution_count": 32,
   "metadata": {},
   "outputs": [
    {
     "name": "stdout",
     "output_type": "stream",
     "text": [
      "3\n",
      "4\n"
     ]
    }
   ],
   "source": [
    "#lambda\n",
    "ones_place = lambda num: num%10 \n",
    "\n",
    "print(ones_place(123))\n",
    "print(ones_place(4))"
   ]
  },
  {
   "cell_type": "markdown",
   "metadata": {},
   "source": [
    "9. Double Square\n",
    "- multiplying it self \n",
    "\n",
    "lambda\n",
    "\n",
    "-> 2 * num ** num\n"
   ]
  },
  {
   "cell_type": "code",
   "execution_count": 33,
   "metadata": {},
   "outputs": [
    {
     "name": "stdout",
     "output_type": "stream",
     "text": [
      "50\n",
      "18\n"
     ]
    }
   ],
   "source": [
    "double_square = lambda num: num ** 2 * 2\n",
    "\n",
    "\n",
    "print(double_square(5))\n",
    "print(double_square(3))\n"
   ]
  },
  {
   "cell_type": "markdown",
   "metadata": {},
   "source": [
    "10. Add Random \n",
    "- random.randint(a,b) return an integer between a and b(inclusive)\n",
    "\n",
    "lambda\n",
    "\n",
    "-> return random integer between 1 and 10 plus with the num"
   ]
  },
  {
   "cell_type": "code",
   "execution_count": 34,
   "metadata": {},
   "outputs": [
    {
     "name": "stdout",
     "output_type": "stream",
     "text": [
      "11\n",
      "101\n"
     ]
    }
   ],
   "source": [
    "import random\n",
    "\n",
    "add_random = lambda num: random.randint(1,10) + num\n",
    "\n",
    "print(add_random(5))\n",
    "print(add_random(100))"
   ]
  },
  {
   "cell_type": "markdown",
   "metadata": {},
   "source": []
  },
  {
   "cell_type": "markdown",
   "metadata": {},
   "source": []
  },
  {
   "cell_type": "markdown",
   "metadata": {},
   "source": []
  }
 ],
 "metadata": {
  "kernelspec": {
   "display_name": "Python 3",
   "language": "python",
   "name": "python3"
  },
  "language_info": {
   "codemirror_mode": {
    "name": "ipython",
    "version": 3
   },
   "file_extension": ".py",
   "mimetype": "text/x-python",
   "name": "python",
   "nbconvert_exporter": "python",
   "pygments_lexer": "ipython3",
   "version": "3.12.3"
  }
 },
 "nbformat": 4,
 "nbformat_minor": 2
}
