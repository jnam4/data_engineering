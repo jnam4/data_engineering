{
 "cells": [
  {
   "cell_type": "markdown",
   "metadata": {},
   "source": [
    "Chapter 4: 1. Aggeregate in pandas\n",
    "\n",
    "Date: 2025.01.15\n",
    "\n",
    "Author: Jiyun Nam\n",
    "\n",
    "Credit: codecademy\n",
    "\n",
    "Learning Outcome\n",
    "\n",
    "\n",
    "- aggregate statistic is a way of creating a single number that describes a group of numbers. \n",
    "- mean, median, and standard deviation.\n",
    "\n"
   ]
  },
  {
   "cell_type": "markdown",
   "metadata": {},
   "source": [
    "1. Calculating Column Statistics \n",
    "df.column_name.command()\n",
    "- Command\tDescription\n",
    "- mean\tAverage of all values in column\n",
    "- std\tStandard deviation\n",
    "- median\tMedian\n",
    "- max\tMaximum value in column\n",
    "- min\tMinimum value in column\n",
    "- count\tNumber of values in column\n",
    "- nunique\tNumber of unique values in column\n",
    "- unique\tList of unique values in column\n"
   ]
  },
  {
   "cell_type": "code",
   "execution_count": null,
   "metadata": {
    "vscode": {
     "languageId": "plaintext"
    }
   },
   "outputs": [],
   "source": []
  }
 ],
 "metadata": {
  "language_info": {
   "name": "python"
  }
 },
 "nbformat": 4,
 "nbformat_minor": 2
}
