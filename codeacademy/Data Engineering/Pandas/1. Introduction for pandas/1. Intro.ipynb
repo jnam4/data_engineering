{
 "cells": [
  {
   "cell_type": "markdown",
   "metadata": {},
   "source": [
    "\n",
    "Chapter 1: Introduction to Pandas\n",
    "\n",
    "Date: 2025.01.14\n",
    "\n",
    "Author: Jiyun Nam\n",
    "\n",
    "Credit: codecademy\n",
    "\n",
    "Learning Outcome\n",
    "- Create a table from scratch\n",
    "- Loading data from another file\n",
    "- Selecting certain rows or columns of a table"
   ]
  },
  {
   "cell_type": "markdown",
   "metadata": {},
   "source": [
    "1. Importing Pandas Modle"
   ]
  },
  {
   "cell_type": "code",
   "execution_count": 13,
   "metadata": {},
   "outputs": [],
   "source": [
    "import pandas as pd\n"
   ]
  },
  {
   "cell_type": "markdown",
   "metadata": {},
   "source": [
    "2. DataFrame \n",
    "- An object that stores data as rows and columns\n",
    "- Able to manually create DataFrame and fill with data. \n",
    "- Can contain many different data types: strings, ints, foats, tuples, etc \n",
    "\n",
    "- pd.DataFrame() \n",
    "- Each key: column name\n",
    "- Each value: list of column values \n"
   ]
  },
  {
   "cell_type": "code",
   "execution_count": 14,
   "metadata": {},
   "outputs": [
    {
     "name": "stdout",
     "output_type": "stream",
     "text": [
      "   Product ID Product Name  Color\n",
      "0           1      t-shirt   blue\n",
      "1           2      t-shirt  green\n",
      "2           3        skirt    red\n",
      "3           4        skirt  black\n"
     ]
    }
   ],
   "source": [
    "# Insert Data by Columns\n",
    "df1 = pd.DataFrame({\n",
    "  'Product ID': [1, 2, 3, 4],\n",
    "  'Product Name' : ['t-shirt', 't-shirt', 'skirt', 'skirt'],\n",
    "  'Color' : ['blue', 'green', 'red', 'black']\n",
    "})\n",
    "\n",
    "print(df1)"
   ]
  },
  {
   "cell_type": "code",
   "execution_count": 15,
   "metadata": {},
   "outputs": [
    {
     "name": "stdout",
     "output_type": "stream",
     "text": [
      "   Store ID       Location  Number of Employees\n",
      "0         1      San Diego                  100\n",
      "1         2    Los Angeles                  120\n",
      "2         3  San Francisco                   90\n",
      "3         4     Sacramento                  115\n"
     ]
    }
   ],
   "source": [
    "# Insert Data by Rows\n",
    "df2 = pd.DataFrame([\n",
    "  [1, 'San Diego', 100],\n",
    "  [2, 'Los Angeles', 120],\n",
    "  [3, 'San Francisco', 90],\n",
    "  [4, 'Sacramento', 115]\n",
    "],\n",
    "  columns=[\n",
    "  'Store ID', 'Location', 'Number of Employees'\n",
    "  ])\n",
    "\n",
    "print(df2)"
   ]
  },
  {
   "cell_type": "markdown",
   "metadata": {},
   "source": [
    "3. Comma Seperated Values (CSV) \n",
    "\n",
    "column1, column2, column3\n",
    "\n",
    "value1, value2, value3\n",
    "\n",
    "TextEditor -> make it plain text -> save it without any incoding -> title save as 'title.csv' -> automatically save as csv file\n",
    "\n"
   ]
  },
  {
   "cell_type": "markdown",
   "metadata": {},
   "source": [
    "Thisis how CSV file look like:\n",
    "\n",
    "name,cake_flavor,frosting_flavor,topping\n",
    "\n",
    "Chocolate Cake,chocolate,chocolate,chocolate shavings\n",
    "\n",
    "Birthday Cake,vanilla,vanilla,rainbow sprinkles\n",
    "\n",
    "Carrot Cake,carrot,cream cheese,almonds\n"
   ]
  },
  {
   "cell_type": "code",
   "execution_count": 22,
   "metadata": {},
   "outputs": [
    {
     "name": "stdout",
     "output_type": "stream",
     "text": [
      "            City  Population  Median Age\n",
      "0      Maplewood      100000          40\n",
      "1          Wayne      350000          33\n",
      "2  Forrest Hills      300000          35\n",
      "3        Paramus      400000          55\n",
      "4     Hackensack      290000          39\n"
     ]
    }
   ],
   "source": [
    "df = pd.read_csv('/Users/yun/Desktop/rider.csv')\n",
    "print(df)"
   ]
  },
  {
   "cell_type": "markdown",
   "metadata": {},
   "source": [
    "4. Inspect a DataFrame"
   ]
  },
  {
   "cell_type": "code",
   "execution_count": 29,
   "metadata": {},
   "outputs": [
    {
     "name": "stdout",
     "output_type": "stream",
     "text": [
      "            City  Population  Median Age\n",
      "0      Maplewood      100000          40\n",
      "1          Wayne      350000          33\n",
      "2  Forrest Hills      300000          35\n",
      "3        Paramus      400000          55\n",
      "4     Hackensack      290000          39\n",
      "<class 'pandas.core.frame.DataFrame'>\n",
      "RangeIndex: 5 entries, 0 to 4\n",
      "Data columns (total 3 columns):\n",
      " #   Column      Non-Null Count  Dtype \n",
      "---  ------      --------------  ----- \n",
      " 0   City        5 non-null      object\n",
      " 1   Population  5 non-null      int64 \n",
      " 2   Median Age  5 non-null      int64 \n",
      "dtypes: int64(2), object(1)\n",
      "memory usage: 252.0+ bytes\n",
      "None\n"
     ]
    }
   ],
   "source": [
    "# .head(n) - gives n rows of a DataFrame\n",
    "print(df.head())\n",
    "\n",
    "# .info() - gives statistic for each column\n",
    "print(df.info())"
   ]
  },
  {
   "cell_type": "markdown",
   "metadata": {},
   "source": [
    "5. Select Column\n",
    "\n",
    "variable = dataframe.column_name\n",
    "\n",
    "variable = datafame['column_name']"
   ]
  },
  {
   "cell_type": "code",
   "execution_count": 42,
   "metadata": {},
   "outputs": [
    {
     "name": "stdout",
     "output_type": "stream",
     "text": [
      "<class 'pandas.core.series.Series'>\n",
      "<class 'pandas.core.frame.DataFrame'>\n"
     ]
    }
   ],
   "source": [
    "df1_color = df1.Color\n",
    "print(type(df1_color))  #<class 'pandas.core.series.Series'>\n",
    "print(type(df1))     #<class 'pandas.core.series.DataFrame'>"
   ]
  },
  {
   "cell_type": "markdown",
   "metadata": {},
   "source": [
    "6. Select Multiple Column\n",
    "\n",
    "variable = dataframe[['column1, column2]]"
   ]
  },
  {
   "cell_type": "code",
   "execution_count": 47,
   "metadata": {},
   "outputs": [
    {
     "name": "stdout",
     "output_type": "stream",
     "text": [
      "  Product Name  Color\n",
      "0      t-shirt   blue\n",
      "1      t-shirt  green\n",
      "2        skirt    red\n",
      "3        skirt  black\n",
      "<class 'pandas.core.frame.DataFrame'>\n"
     ]
    }
   ],
   "source": [
    "df1_productname_color = df1[['Product Name','Color']]\n",
    "print(df1_productname_color)\n",
    "print(type(df1_productname_color)) #<class 'pandas.core.frame.DataFrame'>"
   ]
  },
  {
   "cell_type": "markdown",
   "metadata": {},
   "source": [
    "7. Select Row \n",
    "\n",
    "variable = dataframe.iloc[n]\n",
    "\n"
   ]
  },
  {
   "cell_type": "code",
   "execution_count": 51,
   "metadata": {},
   "outputs": [
    {
     "name": "stdout",
     "output_type": "stream",
     "text": [
      "   Product ID Product Name  Color\n",
      "0           1      t-shirt   blue\n",
      "1           2      t-shirt  green\n",
      "2           3        skirt    red\n",
      "3           4        skirt  black\n",
      "Product ID            2\n",
      "Product Name    t-shirt\n",
      "Color             green\n",
      "Name: 1, dtype: object\n"
     ]
    }
   ],
   "source": [
    "print(df1)\n",
    "# Select 2nd row of df1 \n",
    "green_t = df1.iloc[1]\n",
    "print(green_t)"
   ]
  },
  {
   "cell_type": "markdown",
   "metadata": {},
   "source": [
    "8. Select Multiple Row \n",
    "\n",
    "variable = dataframe.iloc[n:n+1]"
   ]
  },
  {
   "cell_type": "code",
   "execution_count": 53,
   "metadata": {},
   "outputs": [
    {
     "name": "stdout",
     "output_type": "stream",
     "text": [
      "   Product ID Product Name  Color\n",
      "0           1      t-shirt   blue\n",
      "1           2      t-shirt  green\n",
      "2           3        skirt    red\n",
      "3           4        skirt  black\n",
      "   Product ID Product Name  Color\n",
      "2           3        skirt    red\n",
      "3           4        skirt  black\n"
     ]
    }
   ],
   "source": [
    "print(df1)\n",
    "# Select 2nd row of df1 \n",
    "skirt = df1.iloc[2:]\n",
    "print(skirt)"
   ]
  },
  {
   "cell_type": "markdown",
   "metadata": {},
   "source": [
    "9. Select Row with Logic 1\n",
    "\n",
    "\n",
    "variable = df[df.columname == desired_colum_value]\n",
    "\n",
    "variable = df.query('column name' == 'desired value')\n",
    "\n",
    "== exactly squal to one another \n",
    "\n",
    "!= not equal to \n",
    "\n",
    "'>' greater than \n",
    "\n",
    "< smaller than\n",
    "\n",
    "& means 'and'\n"
   ]
  },
  {
   "cell_type": "markdown",
   "metadata": {},
   "source": [
    "1. condition only in one column"
   ]
  },
  {
   "cell_type": "code",
   "execution_count": 62,
   "metadata": {},
   "outputs": [
    {
     "name": "stdout",
     "output_type": "stream",
     "text": [
      "   Product ID Product Name  Color\n",
      "0           1      t-shirt   blue\n",
      "1           2      t-shirt  green\n",
      "2           3        skirt    red\n",
      "3           4        skirt  black\n",
      "   Product ID Product Name Color\n",
      "0           1      t-shirt  blue\n"
     ]
    }
   ],
   "source": [
    "#product Id is 2 \n",
    "print(df1)\n",
    "\n",
    "product_id_1 = df1[df1['Product ID'] == 1]\n",
    "print(product_id_1)"
   ]
  },
  {
   "cell_type": "markdown",
   "metadata": {},
   "source": [
    "2. condition in multiple columns"
   ]
  },
  {
   "cell_type": "code",
   "execution_count": 66,
   "metadata": {},
   "outputs": [
    {
     "name": "stdout",
     "output_type": "stream",
     "text": [
      "   Product ID Product Name Color\n",
      "0           1      t-shirt  blue\n"
     ]
    }
   ],
   "source": [
    "pid1_cbue = df1[(df1['Product ID'] == 1) & (df1['Color'] == 'blue')]\n",
    "print(pid1_cbue)"
   ]
  },
  {
   "cell_type": "markdown",
   "metadata": {},
   "source": [
    "3. conditionn in several rows in one column = isin method"
   ]
  },
  {
   "cell_type": "code",
   "execution_count": 74,
   "metadata": {},
   "outputs": [
    {
     "name": "stdout",
     "output_type": "stream",
     "text": [
      "   Product ID Product Name  Color\n",
      "0           1      t-shirt   blue\n",
      "1           2      t-shirt  green\n",
      "   Product ID Product Name  Color\n",
      "0           1      t-shirt   blue\n",
      "1           2      t-shirt  green\n"
     ]
    }
   ],
   "source": [
    "#isin method \n",
    "product_12 = df1[df1['Product ID'].isin([1, 2])]\n",
    "print(product_12)\n",
    "\n",
    "color_bg = df1[df1['Color'].isin(['blue', 'green'])]\n",
    "print(color_bg)"
   ]
  },
  {
   "cell_type": "markdown",
   "metadata": {},
   "source": [
    "10. Setting indices\n",
    "\n",
    "variable = dataframe.iloc[row, column] = select specific value in the row and column \n",
    "\n",
    "variable = dataframe.loc[number1, number2] = select specific row in the number1 and number2\n",
    "\n",
    "variable = dataframe.reset_index(drop=True) = reest index \n",
    "OR dataframe.reset_index(inplace=True, drop=True)\n",
    "\n"
   ]
  },
  {
   "cell_type": "code",
   "execution_count": 90,
   "metadata": {},
   "outputs": [
    {
     "name": "stdout",
     "output_type": "stream",
     "text": [
      "   Product ID Product Name  Color\n",
      "0           1      t-shirt   blue\n",
      "1           2      t-shirt  green\n",
      "2           3        skirt    red\n",
      "3           4        skirt  black\n",
      "blue\n"
     ]
    }
   ],
   "source": [
    "print(df1)\n",
    "first_row = df1.iloc[0, 2] #Select from Row 0, Column 2\n",
    "print(first_row)"
   ]
  },
  {
   "cell_type": "code",
   "execution_count": 103,
   "metadata": {},
   "outputs": [
    {
     "name": "stdout",
     "output_type": "stream",
     "text": [
      "   Product ID Product Name  Color\n",
      "1           2      t-shirt  green\n",
      "3           4        skirt  black\n",
      "   Product ID Product Name  Color\n",
      "0           2      t-shirt  green\n",
      "1           4        skirt  black\n",
      "   Product ID Product Name  Color\n",
      "0           2      t-shirt  green\n",
      "1           4        skirt  black\n"
     ]
    }
   ],
   "source": [
    "df1_2 = df1.loc[[1, 3]]\n",
    "print(df1_2)\n",
    "df1_3 = df1_2.reset_index(drop=True)\n",
    "print(df1_3)\n",
    "df1_2.reset_index(inplace=True, drop=True)\n",
    "print(df1_2)"
   ]
  },
  {
   "cell_type": "code",
   "execution_count": null,
   "metadata": {},
   "outputs": [],
   "source": []
  }
 ],
 "metadata": {
  "kernelspec": {
   "display_name": "Python 3",
   "language": "python",
   "name": "python3"
  },
  "language_info": {
   "codemirror_mode": {
    "name": "ipython",
    "version": 3
   },
   "file_extension": ".py",
   "mimetype": "text/x-python",
   "name": "python",
   "nbconvert_exporter": "python",
   "pygments_lexer": "ipython3",
   "version": "3.12.3"
  }
 },
 "nbformat": 4,
 "nbformat_minor": 2
}
