{
 "cells": [
  {
   "cell_type": "markdown",
   "metadata": {},
   "source": [
    "\n",
    "Chapter 1: Review\n",
    "\n",
    "Date: 2025.01.14\n",
    "\n",
    "Author: Jiyun Nam\n",
    "\n",
    "Credit: codecademy\n",
    "\n",
    "Learning Outcome\n",
    "- Create a table from scratch\n",
    "- Loading data from another file\n",
    "- Selecting certain rows or columns of a table"
   ]
  },
  {
   "cell_type": "code",
   "execution_count": 2,
   "metadata": {},
   "outputs": [],
   "source": [
    "import pandas as pd"
   ]
  },
  {
   "cell_type": "markdown",
   "metadata": {},
   "source": [
    "1. Read csv"
   ]
  },
  {
   "cell_type": "code",
   "execution_count": 8,
   "metadata": {},
   "outputs": [
    {
     "name": "stdout",
     "output_type": "stream",
     "text": [
      "       id  first_name   last_name                         email     shoe_type  \\\n",
      "0   54791     Rebecca     Lindsay  RebeccaLindsay57@hotmail.com         clogs   \n",
      "1   53450       Emily       Joyce        EmilyJoyce25@gmail.com  ballet flats   \n",
      "2   91987       Joyce      Waller        Joyce.Waller@gmail.com       sandals   \n",
      "3   14437      Justin    Erickson   Justin.Erickson@outlook.com         clogs   \n",
      "4   79357      Andrew       Banks              AB4318@gmail.com         boots   \n",
      "5   52386       Julie       Marsh        JulieMarsh59@gmail.com       sandals   \n",
      "6   20487      Thomas      Jensen              TJ5470@gmail.com         clogs   \n",
      "7   76971      Janice       Hicks        Janice.Hicks@gmail.com         clogs   \n",
      "8   21586     Gabriel      Porter     GabrielPorter24@gmail.com         clogs   \n",
      "9   62083     Frances      Palmer     FrancesPalmer50@gmail.com        wedges   \n",
      "10  91629     Jessica        Hale       JessicaHale25@gmail.com         clogs   \n",
      "11  98602    Lawrence      Parker    LawrenceParker44@gmail.com        wedges   \n",
      "12  45832       Susan      Dennis       SusanDennis58@gmail.com  ballet flats   \n",
      "13  33862       Diane       Ochoa              DO2680@gmail.com       sandals   \n",
      "14  73431     Rebecca     Charles     Rebecca.Charles@gmail.com         boots   \n",
      "15  93889  Jacqueline       Crane            JC2072@hotmail.com        wedges   \n",
      "16  39888     Vincent  Stephenson            VS4753@outlook.com         boots   \n",
      "17  35961         Roy     Tillman        RoyTillman20@gmail.com         boots   \n",
      "18  24560      Thomas    Roberson     Thomas.Roberson@gmail.com        wedges   \n",
      "19  28559      Angela      Newton       ANewton1977@outlook.com        wedges   \n",
      "\n",
      "   shoe_material shoe_color  \n",
      "0   faux-leather      black  \n",
      "1   faux-leather       navy  \n",
      "2         fabric      black  \n",
      "3   faux-leather        red  \n",
      "4        leather      brown  \n",
      "5         fabric      black  \n",
      "6         fabric       navy  \n",
      "7   faux-leather       navy  \n",
      "8        leather      brown  \n",
      "9        leather      white  \n",
      "10       leather        red  \n",
      "11        fabric      brown  \n",
      "12        fabric      white  \n",
      "13        fabric        red  \n",
      "14  faux-leather      white  \n",
      "15        fabric        red  \n",
      "16       leather      black  \n",
      "17       leather      white  \n",
      "18        fabric        red  \n",
      "19        fabric        red  \n"
     ]
    }
   ],
   "source": [
    "orders = pd.read_csv('/Users/yun/Desktop/shoefly.csv')\n",
    "print(orders)"
   ]
  },
  {
   "cell_type": "markdown",
   "metadata": {},
   "source": [
    "2. Inspect 5 lines of data"
   ]
  },
  {
   "cell_type": "code",
   "execution_count": 9,
   "metadata": {},
   "outputs": [
    {
     "name": "stdout",
     "output_type": "stream",
     "text": [
      "      id first_name last_name                         email     shoe_type  \\\n",
      "0  54791    Rebecca   Lindsay  RebeccaLindsay57@hotmail.com         clogs   \n",
      "1  53450      Emily     Joyce        EmilyJoyce25@gmail.com  ballet flats   \n",
      "2  91987      Joyce    Waller        Joyce.Waller@gmail.com       sandals   \n",
      "3  14437     Justin  Erickson   Justin.Erickson@outlook.com         clogs   \n",
      "4  79357     Andrew     Banks              AB4318@gmail.com         boots   \n",
      "\n",
      "  shoe_material shoe_color  \n",
      "0  faux-leather      black  \n",
      "1  faux-leather       navy  \n",
      "2        fabric      black  \n",
      "3  faux-leather        red  \n",
      "4       leather      brown  \n"
     ]
    }
   ],
   "source": [
    "print(orders.head(5))"
   ]
  },
  {
   "cell_type": "markdown",
   "metadata": {},
   "source": [
    "3. Select all of the email addreses fro the column email"
   ]
  },
  {
   "cell_type": "code",
   "execution_count": 14,
   "metadata": {},
   "outputs": [
    {
     "name": "stdout",
     "output_type": "stream",
     "text": [
      "<class 'pandas.core.frame.DataFrame'>\n",
      "RangeIndex: 20 entries, 0 to 19\n",
      "Data columns (total 7 columns):\n",
      " #   Column         Non-Null Count  Dtype \n",
      "---  ------         --------------  ----- \n",
      " 0   id             20 non-null     int64 \n",
      " 1   first_name     20 non-null     object\n",
      " 2   last_name      20 non-null     object\n",
      " 3   email          20 non-null     object\n",
      " 4   shoe_type      20 non-null     object\n",
      " 5   shoe_material  20 non-null     object\n",
      " 6   shoe_color     20 non-null     object\n",
      "dtypes: int64(1), object(6)\n",
      "memory usage: 1.2+ KB\n",
      "None\n",
      "0     RebeccaLindsay57@hotmail.com\n",
      "1           EmilyJoyce25@gmail.com\n",
      "2           Joyce.Waller@gmail.com\n",
      "3      Justin.Erickson@outlook.com\n",
      "4                 AB4318@gmail.com\n",
      "5           JulieMarsh59@gmail.com\n",
      "6                 TJ5470@gmail.com\n",
      "7           Janice.Hicks@gmail.com\n",
      "8        GabrielPorter24@gmail.com\n",
      "9        FrancesPalmer50@gmail.com\n",
      "10         JessicaHale25@gmail.com\n",
      "11      LawrenceParker44@gmail.com\n",
      "12         SusanDennis58@gmail.com\n",
      "13                DO2680@gmail.com\n",
      "14       Rebecca.Charles@gmail.com\n",
      "15              JC2072@hotmail.com\n",
      "16              VS4753@outlook.com\n",
      "17          RoyTillman20@gmail.com\n",
      "18       Thomas.Roberson@gmail.com\n",
      "19         ANewton1977@outlook.com\n",
      "Name: email, dtype: object\n"
     ]
    }
   ],
   "source": [
    "#get info first\n",
    "print(orders.info())\n",
    "\n",
    "#select email column \n",
    "emails = orders.email\n",
    "print(emails)"
   ]
  },
  {
   "cell_type": "markdown",
   "metadata": {},
   "source": [
    "4. What did Frances Palmer order?\n",
    "\n",
    "Select all inforation in the row of 'orders'\n"
   ]
  },
  {
   "cell_type": "code",
   "execution_count": 27,
   "metadata": {},
   "outputs": [
    {
     "name": "stdout",
     "output_type": "stream",
     "text": [
      "      id first_name last_name                      email shoe_type  \\\n",
      "0  62083    Frances    Palmer  FrancesPalmer50@gmail.com    wedges   \n",
      "\n",
      "  shoe_material shoe_color  \n",
      "0       leather      white  \n"
     ]
    }
   ],
   "source": [
    "frances_palmer = orders[orders['first_name'] == 'Frances']\n",
    "frances_palmer.reset_index(inplace=True, drop=True)\n",
    "print(frances_palmer)"
   ]
  },
  {
   "cell_type": "markdown",
   "metadata": {},
   "source": [
    "5. Select all orders for shoe_type: clogs, boots, and ballet flats and save them to the variable comfy_shoes\n"
   ]
  },
  {
   "cell_type": "code",
   "execution_count": 26,
   "metadata": {},
   "outputs": [
    {
     "name": "stdout",
     "output_type": "stream",
     "text": [
      "       id first_name   last_name                         email     shoe_type  \\\n",
      "0   54791    Rebecca     Lindsay  RebeccaLindsay57@hotmail.com         clogs   \n",
      "1   53450      Emily       Joyce        EmilyJoyce25@gmail.com  ballet flats   \n",
      "2   14437     Justin    Erickson   Justin.Erickson@outlook.com         clogs   \n",
      "3   79357     Andrew       Banks              AB4318@gmail.com         boots   \n",
      "4   20487     Thomas      Jensen              TJ5470@gmail.com         clogs   \n",
      "5   76971     Janice       Hicks        Janice.Hicks@gmail.com         clogs   \n",
      "6   21586    Gabriel      Porter     GabrielPorter24@gmail.com         clogs   \n",
      "7   91629    Jessica        Hale       JessicaHale25@gmail.com         clogs   \n",
      "8   45832      Susan      Dennis       SusanDennis58@gmail.com  ballet flats   \n",
      "9   73431    Rebecca     Charles     Rebecca.Charles@gmail.com         boots   \n",
      "10  39888    Vincent  Stephenson            VS4753@outlook.com         boots   \n",
      "11  35961        Roy     Tillman        RoyTillman20@gmail.com         boots   \n",
      "\n",
      "   shoe_material shoe_color  \n",
      "0   faux-leather      black  \n",
      "1   faux-leather       navy  \n",
      "2   faux-leather        red  \n",
      "3        leather      brown  \n",
      "4         fabric       navy  \n",
      "5   faux-leather       navy  \n",
      "6        leather      brown  \n",
      "7        leather        red  \n",
      "8         fabric      white  \n",
      "9   faux-leather      white  \n",
      "10       leather      black  \n",
      "11       leather      white  \n"
     ]
    }
   ],
   "source": [
    "comfy_shoes = orders[orders['shoe_type'].isin(['clogs', 'boots', 'ballet flats'])]\n",
    "comfy_shoes.reset_index(inplace=True, drop=True) #re-organize index \n",
    "print(comfy_shoes)"
   ]
  },
  {
   "cell_type": "code",
   "execution_count": null,
   "metadata": {},
   "outputs": [],
   "source": []
  }
 ],
 "metadata": {
  "kernelspec": {
   "display_name": "Python 3",
   "language": "python",
   "name": "python3"
  },
  "language_info": {
   "codemirror_mode": {
    "name": "ipython",
    "version": 3
   },
   "file_extension": ".py",
   "mimetype": "text/x-python",
   "name": "python",
   "nbconvert_exporter": "python",
   "pygments_lexer": "ipython3",
   "version": "3.12.3"
  }
 },
 "nbformat": 4,
 "nbformat_minor": 2
}
