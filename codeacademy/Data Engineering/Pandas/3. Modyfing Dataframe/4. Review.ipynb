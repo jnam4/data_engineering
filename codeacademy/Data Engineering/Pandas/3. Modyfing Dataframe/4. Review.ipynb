{
 "cells": [
  {
   "cell_type": "markdown",
   "metadata": {},
   "source": [
    "Chapter 3: Review\n",
    "\n",
    "Date: 2025.01.15\n",
    "\n",
    "Author: Jiyun Nam\n",
    "\n",
    "Credit: codecademy\n"
   ]
  },
  {
   "cell_type": "code",
   "execution_count": 4,
   "metadata": {},
   "outputs": [],
   "source": [
    "import pandas as pd\n",
    "\n",
    "orders = pd.read_csv('/Users/yun/Desktop/shoefly.csv')\n"
   ]
  },
  {
   "cell_type": "markdown",
   "metadata": {},
   "source": [
    "\n",
    "1. First 5 rows of the data"
   ]
  },
  {
   "cell_type": "code",
   "execution_count": 5,
   "metadata": {},
   "outputs": [
    {
     "name": "stdout",
     "output_type": "stream",
     "text": [
      "      id first_name last_name                         email     shoe_type  \\\n",
      "0  54791    Rebecca   Lindsay  RebeccaLindsay57@hotmail.com         clogs   \n",
      "1  53450      Emily     Joyce        EmilyJoyce25@gmail.com  ballet flats   \n",
      "2  91987      Joyce    Waller        Joyce.Waller@gmail.com       sandals   \n",
      "3  14437     Justin  Erickson   Justin.Erickson@outlook.com         clogs   \n",
      "4  79357     Andrew     Banks              AB4318@gmail.com         boots   \n",
      "\n",
      "  shoe_material shoe_color  \n",
      "0  faux-leather      black  \n",
      "1  faux-leather       navy  \n",
      "2        fabric      black  \n",
      "3  faux-leather        red  \n",
      "4       leather      brown  \n"
     ]
    }
   ],
   "source": [
    "print(orders.head(5))"
   ]
  },
  {
   "cell_type": "markdown",
   "metadata": {},
   "source": [
    "2. New column 'shoe_source'\n",
    "\n",
    "shoe_source which is not leather and animal otherwise"
   ]
  },
  {
   "cell_type": "code",
   "execution_count": null,
   "metadata": {},
   "outputs": [],
   "source": [
    "vegan = lambda x: 'vegan' if x != 'leather' else 'animal'\n",
    "orders['shoe_source'] = orders['shoe_material'].apply(vegan)\n",
    "print(orders)"
   ]
  },
  {
   "cell_type": "markdown",
   "metadata": {},
   "source": [
    "3. New column 'salutation'\n",
    "\n",
    "last_name, gender = salutation\n",
    "\n",
    "if male, Dear Mr. / if female, Dear Ms."
   ]
  },
  {
   "cell_type": "code",
   "execution_count": null,
   "metadata": {},
   "outputs": [],
   "source": [
    "\n",
    "salutation = lambda row: f\"Dear Mr. {row['last_name']}\" \\\n",
    "if row['gender'] == 'male'\\\n",
    "else f\"Dear Ms. {row['last_name']}\"\n",
    "\n",
    "\n",
    "orders['salutation'] = orders.apply(salutation, axis=1)\n",
    "\n",
    "print(orders)"
   ]
  }
 ],
 "metadata": {
  "kernelspec": {
   "display_name": "Python 3",
   "language": "python",
   "name": "python3"
  },
  "language_info": {
   "codemirror_mode": {
    "name": "ipython",
    "version": 3
   },
   "file_extension": ".py",
   "mimetype": "text/x-python",
   "name": "python",
   "nbconvert_exporter": "python",
   "pygments_lexer": "ipython3",
   "version": "3.12.3"
  }
 },
 "nbformat": 4,
 "nbformat_minor": 2
}
