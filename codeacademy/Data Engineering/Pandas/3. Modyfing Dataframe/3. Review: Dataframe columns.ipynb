{
 "cells": [
  {
   "cell_type": "markdown",
   "metadata": {},
   "source": [
    "Chapter 3: Review: Dataframe Columns\n",
    "\n",
    "Date: 2025.01.15\n",
    "\n",
    "Author: Jiyun Nam\n",
    "\n",
    "Credit: codecademy\n",
    "\n",
    "Learning Outcome\n",
    "- Renaming columns"
   ]
  },
  {
   "cell_type": "code",
   "execution_count": 1,
   "metadata": {},
   "outputs": [],
   "source": [
    "import pandas as pd"
   ]
  },
  {
   "cell_type": "markdown",
   "metadata": {},
   "source": [
    "1. Renaming Columns-1\n",
    "\n",
    "- df.column_name rather than df['column name']\n",
    "- df.columns = ['a', 'b', 'c', ...]"
   ]
  },
  {
   "cell_type": "code",
   "execution_count": 2,
   "metadata": {},
   "outputs": [
    {
     "name": "stdout",
     "output_type": "stream",
     "text": [
      "      id                                       name   genre  year  imdb_rating\n",
      "0      1                                     Avatar  action  2009          7.9\n",
      "1      2                             Jurassic World  action  2015          7.3\n",
      "2      3                               The Avengers  action  2012          8.1\n",
      "3      4                            The Dark Knight  action  2008          9.0\n",
      "4      5  Star Wars: Episode I - The Phantom Menace  action  1999          6.6\n",
      "..   ...                                        ...     ...   ...          ...\n",
      "215  216                                   Hannibal   drama  2001          6.7\n",
      "216  217                        Catch Me If You Can   drama  2002          8.0\n",
      "217  218                                  Big Daddy   drama  1999          6.4\n",
      "218  219                                      Se7en   drama  1995          8.6\n",
      "219  220                                      Seven   drama  1979          6.1\n",
      "\n",
      "[220 rows x 5 columns]\n"
     ]
    }
   ],
   "source": [
    "df = pd.read_csv('/Users/yun/Desktop/imdb.csv')\n",
    "print(df)\n"
   ]
  },
  {
   "cell_type": "code",
   "execution_count": 3,
   "metadata": {},
   "outputs": [
    {
     "name": "stdout",
     "output_type": "stream",
     "text": [
      "      ID                                      Title Category  Year Released  \\\n",
      "0      1                                     Avatar   action           2009   \n",
      "1      2                             Jurassic World   action           2015   \n",
      "2      3                               The Avengers   action           2012   \n",
      "3      4                            The Dark Knight   action           2008   \n",
      "4      5  Star Wars: Episode I - The Phantom Menace   action           1999   \n",
      "..   ...                                        ...      ...            ...   \n",
      "215  216                                   Hannibal    drama           2001   \n",
      "216  217                        Catch Me If You Can    drama           2002   \n",
      "217  218                                  Big Daddy    drama           1999   \n",
      "218  219                                      Se7en    drama           1995   \n",
      "219  220                                      Seven    drama           1979   \n",
      "\n",
      "     Rating  \n",
      "0       7.9  \n",
      "1       7.3  \n",
      "2       8.1  \n",
      "3       9.0  \n",
      "4       6.6  \n",
      "..      ...  \n",
      "215     6.7  \n",
      "216     8.0  \n",
      "217     6.4  \n",
      "218     8.6  \n",
      "219     6.1  \n",
      "\n",
      "[220 rows x 5 columns]\n"
     ]
    }
   ],
   "source": [
    "df.columns = ['ID', 'Title', 'Category', 'Year Released', 'Rating']\n",
    "print(df)\n"
   ]
  },
  {
   "cell_type": "markdown",
   "metadata": {},
   "source": [
    "2. Reanming Columns-2\n",
    "- dataframe.rename(columns = {'old column': 'new column'}, inplace=True)"
   ]
  },
  {
   "cell_type": "code",
   "execution_count": 5,
   "metadata": {},
   "outputs": [
    {
     "name": "stdout",
     "output_type": "stream",
     "text": [
      "      ID                                Movie_Title Category  Year Released  \\\n",
      "0      1                                     Avatar   action           2009   \n",
      "1      2                             Jurassic World   action           2015   \n",
      "2      3                               The Avengers   action           2012   \n",
      "3      4                            The Dark Knight   action           2008   \n",
      "4      5  Star Wars: Episode I - The Phantom Menace   action           1999   \n",
      "..   ...                                        ...      ...            ...   \n",
      "215  216                                   Hannibal    drama           2001   \n",
      "216  217                        Catch Me If You Can    drama           2002   \n",
      "217  218                                  Big Daddy    drama           1999   \n",
      "218  219                                      Se7en    drama           1995   \n",
      "219  220                                      Seven    drama           1979   \n",
      "\n",
      "     Rating  \n",
      "0       7.9  \n",
      "1       7.3  \n",
      "2       8.1  \n",
      "3       9.0  \n",
      "4       6.6  \n",
      "..      ...  \n",
      "215     6.7  \n",
      "216     8.0  \n",
      "217     6.4  \n",
      "218     8.6  \n",
      "219     6.1  \n",
      "\n",
      "[220 rows x 5 columns]\n"
     ]
    }
   ],
   "source": [
    "df.rename(columns = {'Title':'Movie_Title'}, inplace=True)\n",
    "print(df)"
   ]
  },
  {
   "cell_type": "markdown",
   "metadata": {},
   "source": []
  }
 ],
 "metadata": {
  "kernelspec": {
   "display_name": "Python 3",
   "language": "python",
   "name": "python3"
  },
  "language_info": {
   "codemirror_mode": {
    "name": "ipython",
    "version": 3
   },
   "file_extension": ".py",
   "mimetype": "text/x-python",
   "name": "python",
   "nbconvert_exporter": "python",
   "pygments_lexer": "ipython3",
   "version": "3.12.3"
  }
 },
 "nbformat": 4,
 "nbformat_minor": 2
}
