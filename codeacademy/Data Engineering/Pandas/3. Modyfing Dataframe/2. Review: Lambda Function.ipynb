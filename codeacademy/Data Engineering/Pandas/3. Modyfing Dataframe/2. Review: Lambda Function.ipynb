{
 "cells": [
  {
   "cell_type": "markdown",
   "metadata": {},
   "source": [
    "Chapter 3: Review: Lambda Function\n",
    "\n",
    "Date: 2025.01.15\n",
    "\n",
    "Author: Jiyun Nam\n",
    "\n",
    "Credit: codecademy\n",
    "\n",
    "Learning Outcome\n",
    "- Using lambda functions to calculate complex quantities\n",
    "- Renaming columns"
   ]
  },
  {
   "cell_type": "code",
   "execution_count": 1,
   "metadata": {},
   "outputs": [],
   "source": [
    "import pandas as pd"
   ]
  },
  {
   "cell_type": "markdown",
   "metadata": {},
   "source": [
    "1. Reviewing Lambda Function\n",
    "\n"
   ]
  },
  {
   "cell_type": "code",
   "execution_count": 2,
   "metadata": {},
   "outputs": [
    {
     "name": "stdout",
     "output_type": "stream",
     "text": [
      "Tg\n"
     ]
    }
   ],
   "source": [
    "# create a lambda function 'mylambda' \n",
    "# returns the first an last letter of a string, assuming the string at least 2 charaters. \n",
    "\n",
    "\n",
    "mylambda = lambda x: x[0] + x[-1]\n",
    "print(mylambda('This is a string'))\n"
   ]
  },
  {
   "cell_type": "markdown",
   "metadata": {},
   "source": [
    "2. Reviewing Lambda Function - If statement"
   ]
  },
  {
   "cell_type": "code",
   "execution_count": 9,
   "metadata": {},
   "outputs": [
    {
     "name": "stdout",
     "output_type": "stream",
     "text": [
      "You must be 13 or older\n"
     ]
    }
   ],
   "source": [
    "#python\n",
    "def mylambda(age):\n",
    "    if age >= 13:\n",
    "        return \"Welcome to the BattleCity!\"\n",
    "    else:\n",
    "        return \"You must be 13 or older\"\n",
    "\n",
    "print(mylambda(5))"
   ]
  },
  {
   "cell_type": "code",
   "execution_count": 11,
   "metadata": {},
   "outputs": [
    {
     "name": "stdout",
     "output_type": "stream",
     "text": [
      "Welcome to the BattleCity!\n"
     ]
    }
   ],
   "source": [
    "#lambda\n",
    "mylambda = lambda x: 'Welcome to the BattleCity!' if x >= 13 \\\n",
    "else \"You must be 13 or older\"\n",
    "\n",
    "print(mylambda(14))"
   ]
  },
  {
   "cell_type": "markdown",
   "metadata": {},
   "source": [
    "3. Appying a Lambda to a Column\n",
    "- function = lambda x: x\n",
    "- dataframe['new column'] = dataframe.old_column.apply(function)"
   ]
  },
  {
   "cell_type": "code",
   "execution_count": 23,
   "metadata": {},
   "outputs": [
    {
     "name": "stdout",
     "output_type": "stream",
     "text": [
      "       id               name  hourly_wage  hours_worked\n",
      "0   10310      Lauren Durham           19            43\n",
      "1   18656      Grace Sellers           17            40\n",
      "2   61254  Shirley Rasmussen           16            30\n",
      "3   16886        Brian Rojas           18            47\n",
      "4   89010    Samantha Mosley           11            38\n",
      "5   87246       Louis Guzman           14            39\n",
      "6   20578     Denise Mcclure           15            40\n",
      "7   12869      James Raymond           15            32\n",
      "8   53461       Noah Collier           18            35\n",
      "9   14746    Donna Frederick           20            41\n",
      "10  71127       Shirley Beck           14            32\n",
      "11  92522    Christina Kelly            8            44\n",
      "12  22447        Brian Noble           11            39\n",
      "13  61654          Randy Key           16            38\n",
      "14  16988      Diana Stewart           14            48\n",
      "15  68619       Timothy Sosa           14            42\n",
      "16  59949      Betty Skinner           11            48\n",
      "17  81418      Janet Maxwell           12            38\n",
      "18  27267   Madison Johnston           20            37\n",
      "19  19985   Virginia Nichols           13            49\n"
     ]
    }
   ],
   "source": [
    "import pandas as pd\n",
    "df = pd.read_csv('/Users/yun/Desktop/employee.csv')\n",
    "\n",
    "print(df)"
   ]
  },
  {
   "cell_type": "code",
   "execution_count": 25,
   "metadata": {},
   "outputs": [
    {
     "name": "stdout",
     "output_type": "stream",
     "text": [
      "       id               name  hourly_wage  hours_worked  last_name\n",
      "0   10310      Lauren Durham           19            43     Durham\n",
      "1   18656      Grace Sellers           17            40    Sellers\n",
      "2   61254  Shirley Rasmussen           16            30  Rasmussen\n",
      "3   16886        Brian Rojas           18            47      Rojas\n",
      "4   89010    Samantha Mosley           11            38     Mosley\n",
      "5   87246       Louis Guzman           14            39     Guzman\n",
      "6   20578     Denise Mcclure           15            40    Mcclure\n",
      "7   12869      James Raymond           15            32    Raymond\n",
      "8   53461       Noah Collier           18            35    Collier\n",
      "9   14746    Donna Frederick           20            41  Frederick\n",
      "10  71127       Shirley Beck           14            32       Beck\n",
      "11  92522    Christina Kelly            8            44      Kelly\n",
      "12  22447        Brian Noble           11            39      Noble\n",
      "13  61654          Randy Key           16            38        Key\n",
      "14  16988      Diana Stewart           14            48    Stewart\n",
      "15  68619       Timothy Sosa           14            42       Sosa\n",
      "16  59949      Betty Skinner           11            48    Skinner\n",
      "17  81418      Janet Maxwell           12            38    Maxwell\n",
      "18  27267   Madison Johnston           20            37   Johnston\n",
      "19  19985   Virginia Nichols           13            49    Nichols\n"
     ]
    }
   ],
   "source": [
    "#example. name = Lauren Durham \n",
    "#divide into 'Lauren' 'Durham' by splitting in ' '\n",
    "get_last_name = lambda name: name.split(' ')[-1]\n",
    "\n",
    "#adding to new column \n",
    "df['last_name'] = df.name.apply(get_last_name)\n",
    "\n",
    "print(df)\n"
   ]
  },
  {
   "cell_type": "markdown",
   "metadata": {},
   "source": [
    "\n",
    "4. Applying a Lambda to a row \n",
    "\n",
    "- lambda row\n",
    "- df.apply(___, axis = 1)\n",
    "\n",
    "\n",
    "-     axis=0 (default)\n",
    "- Operates along the rows, column by column (vertical operations).\n",
    "-     axis=1\n",
    "- Operates along the columns, row by row (horizontal operations).\n",
    "- Ensures that the lambda function processes each row individually\n",
    "\n",
    "The axis=1 argument in the df.apply() function specifies that the operation should be applied row-wise across the DataFrame."
   ]
  },
  {
   "cell_type": "code",
   "execution_count": 26,
   "metadata": {},
   "outputs": [],
   "source": [
    "# hour worked > 40, needs to be paid overitme \n",
    "# 43 hours worked > 40, 100*regular hours + 45*overtime"
   ]
  },
  {
   "cell_type": "code",
   "execution_count": 39,
   "metadata": {},
   "outputs": [
    {
     "name": "stdout",
     "output_type": "stream",
     "text": [
      "       id               name  hourly_wage  hours_worked  last_name  \\\n",
      "0   10310      Lauren Durham           19            43     Durham   \n",
      "1   18656      Grace Sellers           17            40    Sellers   \n",
      "2   61254  Shirley Rasmussen           16            30  Rasmussen   \n",
      "3   16886        Brian Rojas           18            47      Rojas   \n",
      "4   89010    Samantha Mosley           11            38     Mosley   \n",
      "5   87246       Louis Guzman           14            39     Guzman   \n",
      "6   20578     Denise Mcclure           15            40    Mcclure   \n",
      "7   12869      James Raymond           15            32    Raymond   \n",
      "8   53461       Noah Collier           18            35    Collier   \n",
      "9   14746    Donna Frederick           20            41  Frederick   \n",
      "10  71127       Shirley Beck           14            32       Beck   \n",
      "11  92522    Christina Kelly            8            44      Kelly   \n",
      "12  22447        Brian Noble           11            39      Noble   \n",
      "13  61654          Randy Key           16            38        Key   \n",
      "14  16988      Diana Stewart           14            48    Stewart   \n",
      "15  68619       Timothy Sosa           14            42       Sosa   \n",
      "16  59949      Betty Skinner           11            48    Skinner   \n",
      "17  81418      Janet Maxwell           12            38    Maxwell   \n",
      "18  27267   Madison Johnston           20            37   Johnston   \n",
      "19  19985   Virginia Nichols           13            49    Nichols   \n",
      "\n",
      "    total_earned  \n",
      "0          845.5  \n",
      "1          680.0  \n",
      "2          480.0  \n",
      "3          909.0  \n",
      "4          418.0  \n",
      "5          546.0  \n",
      "6          600.0  \n",
      "7          480.0  \n",
      "8          630.0  \n",
      "9          830.0  \n",
      "10         448.0  \n",
      "11         368.0  \n",
      "12         429.0  \n",
      "13         608.0  \n",
      "14         728.0  \n",
      "15         602.0  \n",
      "16         572.0  \n",
      "17         456.0  \n",
      "18         740.0  \n",
      "19         695.5  \n"
     ]
    }
   ],
   "source": [
    "total_earned = lambda row: (row.hourly_wage * 40) + ((row.hourly_wage * 1.5) * (row.hours_worked - 40)) \\\n",
    "    if row.hours_worked > 40 \\\n",
    "    else row.hourly_wage * row.hours_worked \n",
    "\n",
    "\n",
    "df['total_earned'] = df.apply(total_earned, axis = 1)\n",
    "print(df)\n"
   ]
  },
  {
   "cell_type": "markdown",
   "metadata": {},
   "source": []
  }
 ],
 "metadata": {
  "kernelspec": {
   "display_name": "Python 3",
   "language": "python",
   "name": "python3"
  },
  "language_info": {
   "codemirror_mode": {
    "name": "ipython",
    "version": 3
   },
   "file_extension": ".py",
   "mimetype": "text/x-python",
   "name": "python",
   "nbconvert_exporter": "python",
   "pygments_lexer": "ipython3",
   "version": "3.12.3"
  }
 },
 "nbformat": 4,
 "nbformat_minor": 2
}
